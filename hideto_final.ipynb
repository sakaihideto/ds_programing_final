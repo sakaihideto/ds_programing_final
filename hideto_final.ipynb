{
 "cells": [
  {
   "cell_type": "code",
   "execution_count": 12,
   "metadata": {},
   "outputs": [
    {
     "name": "stdout",
     "output_type": "stream",
     "text": [
      "/Users/hidetosakai/Desktop/ds_programing_final\n"
     ]
    }
   ],
   "source": [
    "import sqlite3\n",
    "!pwd"
   ]
  },
  {
   "cell_type": "code",
   "execution_count": 14,
   "metadata": {},
   "outputs": [],
   "source": [
    "# ds_programing_final\n",
    "path = '/Users/hidetosakai/Desktop/ds_programing_final/'\n",
    "\n",
    "#DB file name\n",
    "db_name = 'final.sqlite'\n",
    "\n",
    "con = sqlite3.connect(path + db_name)\n",
    "#db close\n",
    "con.close()\n",
    "\n"
   ]
  },
  {
   "cell_type": "code",
   "execution_count": 16,
   "metadata": {},
   "outputs": [],
   "source": [
    "#connect to\n",
    "con = sqlite3.connect(path + db_name)\n",
    "\n",
    "#get object\n",
    "cur = con.cursor()\n",
    "\n",
    "#make table\n",
    "create_table = 'CREATE TABLE climate(id INTEGER PRIMARY KEY AUTOINCREMENT, date int, climate text);'\n",
    "\n",
    "#execute\n",
    "cur.execute(create_table)\n",
    "\n",
    "#commit prosessing\n",
    "con.commit()\n",
    "\n",
    "#db close\n",
    "con.close()"
   ]
  },
  {
   "cell_type": "code",
   "execution_count": 18,
   "metadata": {},
   "outputs": [],
   "source": [
    "#connect to\n",
    "con = sqlite3.connect(path + db_name)\n",
    "\n",
    "#get object\n",
    "cur = con.cursor()\n",
    "\n",
    "#insert into \n",
    "insert_many = 'INSERT INTO climate VALUES (?, ?, ?);'\n",
    "\n",
    "#prepare a list\n",
    "climate_list = [\n",
    "]\n",
    "\n",
    "#execute\n",
    "cur.executemany(insert_many, climate_list)\n",
    "\n",
    "#commit prosessing\n",
    "con.commit()\n",
    "\n",
    "#db close\n",
    "con.close()"
   ]
  },
  {
   "cell_type": "code",
   "execution_count": 20,
   "metadata": {},
   "outputs": [],
   "source": [
    "#connect to\n",
    "con = sqlite3.connect(path + db_name)\n",
    "\n",
    "#get object\n",
    "cur = con.cursor()\n",
    "\n",
    "#select from\n",
    "## * の部分は列の名前をカンマ区切りを指定できる\n",
    "select = 'SELECT * FROM climate;'\n",
    "\n",
    "#execute\n",
    "cur.execute\n",
    "\n",
    "#extract from db\n",
    "for k in cur:\n",
    "    print(k)\n",
    "\n",
    "#commit prosessing\n",
    "con.commit()\n",
    "\n",
    "#db close\n",
    "con.close()"
   ]
  },
  {
   "cell_type": "code",
   "execution_count": null,
   "metadata": {},
   "outputs": [],
   "source": [
    "#aaa"
   ]
  }
 ],
 "metadata": {
  "kernelspec": {
   "display_name": "Python 3",
   "language": "python",
   "name": "python3"
  },
  "language_info": {
   "codemirror_mode": {
    "name": "ipython",
    "version": 3
   },
   "file_extension": ".py",
   "mimetype": "text/x-python",
   "name": "python",
   "nbconvert_exporter": "python",
   "pygments_lexer": "ipython3",
   "version": "3.9.6"
  }
 },
 "nbformat": 4,
 "nbformat_minor": 2
}
