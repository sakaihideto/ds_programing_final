{
 "cells": [
  {
   "cell_type": "code",
   "execution_count": 12,
   "metadata": {},
   "outputs": [
    {
     "name": "stdout",
     "output_type": "stream",
     "text": [
      "/Users/hidetosakai/Desktop/ds_programing_final\n"
     ]
    }
   ],
   "source": [
    "import sqlite3\n",
    "!pwd"
   ]
  },
  {
   "cell_type": "code",
   "execution_count": 14,
   "metadata": {},
   "outputs": [],
   "source": [
    "# ds_programing_final\n",
    "path = '/Users/hidetosakai/Desktop/ds_programing_final/'\n",
    "\n",
    "#DB file name\n",
    "db_name = 'final.sqlite'\n",
    "\n",
    "con = sqlite3.connect(path + db_name)\n",
    "#db close\n",
    "con.close()\n",
    "\n"
   ]
  },
  {
   "cell_type": "code",
   "execution_count": 16,
   "metadata": {},
   "outputs": [],
   "source": [
    "#connect to\n",
    "con = sqlite3.connect(path + db_name)\n",
    "\n",
    "#get object\n",
    "cur = con.cursor()\n",
    "\n",
    "#make table\n",
    "create_table = 'CREATE TABLE climate(id INTEGER PRIMARY KEY AUTOINCREMENT, date int, climate text);'\n",
    "\n",
    "#execute\n",
    "cur.execute(create_table)\n",
    "\n",
    "#commit prosessing\n",
    "con.commit()\n",
    "\n",
    "#db close\n",
    "con.close()"
   ]
  },
  {
   "cell_type": "code",
   "execution_count": 18,
   "metadata": {},
   "outputs": [],
   "source": [
    "#connect to\n",
    "con = sqlite3.connect(path + db_name)\n",
    "\n",
    "#get object\n",
    "cur = con.cursor()\n",
    "\n",
    "#insert into \n",
    "insert_many = 'INSERT INTO climate VALUES (?, ?, ?);'\n",
    "\n",
    "#prepare a list\n",
    "climate_list = [\n",
    "]\n",
    "\n",
    "#execute\n",
    "cur.executemany(insert_many, climate_list)\n",
    "\n",
    "#commit prosessing\n",
    "con.commit()\n",
    "\n",
    "#db close\n",
    "con.close()"
   ]
  },
  {
   "cell_type": "code",
   "execution_count": 20,
   "metadata": {},
   "outputs": [],
   "source": [
    "#connect to\n",
    "con = sqlite3.connect(path + db_name)\n",
    "\n",
    "#get object\n",
    "cur = con.cursor()\n",
    "\n",
    "#select from\n",
    "## * の部分は列の名前をカンマ区切りを指定できる\n",
    "select = 'SELECT * FROM climate;'\n",
    "\n",
    "#execute\n",
    "cur.execute\n",
    "\n",
    "#extract from db\n",
    "for k in cur:\n",
    "    print(k)\n",
    "\n",
    "#commit prosessing\n",
    "con.commit()\n",
    "\n",
    "#db close\n",
    "con.close()"
   ]
  },
  {
   "cell_type": "code",
   "execution_count": 25,
   "metadata": {},
   "outputs": [
    {
     "name": "stdout",
     "output_type": "stream",
     "text": [
      "快晴\n",
      "晴\n",
      "快晴\n",
      "晴後曇\n",
      "雨時々曇\n",
      "薄曇後一時晴\n",
      "快晴\n",
      "晴一時曇\n",
      "薄曇一時晴\n",
      "晴後曇\n",
      "曇後雨\n",
      "雨時々曇後晴\n",
      "晴後時々曇\n",
      "曇後時々雨\n",
      "晴\n",
      "曇後晴\n",
      "快晴\n",
      "曇一時晴\n",
      "曇\n",
      "晴時々薄曇\n",
      "快晴\n",
      "快晴\n",
      "薄曇時々晴\n",
      "快晴\n",
      "快晴\n",
      "晴\n",
      "曇一時晴\n",
      "快晴\n",
      "晴\n",
      "曇時々晴一時雨\n",
      "晴一時曇\n"
     ]
    }
   ],
   "source": [
    "#create a list\n",
    "climate_list_name = []\n",
    "\n",
    "#scraping\n",
    "import requests\n",
    "r=requests.get(\"https://www.data.jma.go.jp/obd/stats/etrn/view/daily_s1.php?prec_no=44&block_no=47662&year=2023&month=12&day=&view=p1\")\n",
    "\n",
    "encoding=r.encoding\n",
    "if encoding.lower() == 'iso-8859-1':\n",
    "    r.encoding = 'utf-8'\n",
    "\n",
    "from bs4 import BeautifulSoup\n",
    "soup=BeautifulSoup(r.text, 'html.parser')\n",
    "\n",
    "tag=soup.find('table', id='tablefix1', class_='data2_s')\n",
    "\n",
    "index=20\n",
    "\n",
    "for row in tag.find_all('tr')[1:]:\n",
    "    columns=row.find_all('td')\n",
    "    if columns:\n",
    "        target_data=columns[index].text\n",
    "        print(target_data)\n",
    "# weather=tag.find_all('td', class_='data_0_0')\n",
    "# target=([x.string for x in weather])\n",
    "# print(target)"
   ]
  }
 ],
 "metadata": {
  "kernelspec": {
   "display_name": "Python 3",
   "language": "python",
   "name": "python3"
  },
  "language_info": {
   "codemirror_mode": {
    "name": "ipython",
    "version": 3
   },
   "file_extension": ".py",
   "mimetype": "text/x-python",
   "name": "python",
   "nbconvert_exporter": "python",
   "pygments_lexer": "ipython3",
   "version": "3.9.6"
  }
 },
 "nbformat": 4,
 "nbformat_minor": 2
}
